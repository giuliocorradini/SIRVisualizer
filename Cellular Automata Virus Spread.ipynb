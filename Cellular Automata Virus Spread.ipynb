{
 "cells": [
  {
   "cell_type": "markdown",
   "metadata": {},
   "source": [
    "# Spread simulation using CA\n",
    "\n",
    "We can simulate the spread of a virus disease using cellular automata, defining SIR model assumptions when programming the neighbourhood update function. That way we should be able to obtain the SIR model functions data, and thus compute beta and gamma values.\n",
    "\n",
    "I'm using the *cellpylib* module for this demonstration, it implements common CA operations using numpy thus achieving higher speed in computation (which are quite power hungry).\n",
    "\n",
    "Let's start by importing the dependencies."
   ]
  },
  {
   "cell_type": "code",
   "execution_count": 1,
   "metadata": {},
   "outputs": [],
   "source": [
    "import numpy as np\n",
    "import matplotlib.pyplot as plt\n",
    "import cellpylib as cpl\n",
    "import random\n",
    "from ipywidgets import interact, FloatSlider, IntSlider"
   ]
  },
  {
   "cell_type": "markdown",
   "metadata": {},
   "source": [
    "A neighbourhood represents the basic CA data structure, *cpl* represents is using a numpy array."
   ]
  },
  {
   "cell_type": "code",
   "execution_count": 35,
   "metadata": {},
   "outputs": [],
   "source": [
    "sandbox = cpl.init_simple2d(500, 500)    #Create new CA of dimensions 100x100"
   ]
  },
  {
   "cell_type": "markdown",
   "metadata": {},
   "source": [
    "SIR model defines two constants values, beta and gamma, used to compute the number of infected and recovered people every day.\n",
    "Let's choose a value."
   ]
  },
  {
   "cell_type": "code",
   "execution_count": 14,
   "metadata": {},
   "outputs": [
    {
     "data": {
      "application/vnd.jupyter.widget-view+json": {
       "model_id": "ed83584f8ec24585ab6e339785f15450",
       "version_major": 2,
       "version_minor": 0
      },
      "text/plain": [
       "FloatSlider(value=0.055, description='Transmission rate:', max=1.5, readout_format='.3f', step=0.001)"
      ]
     },
     "metadata": {},
     "output_type": "display_data"
    }
   ],
   "source": [
    "trSlider = FloatSlider(value=0.055,min=0,max=1.5,step=0.001,description='Transmission rate:',orientation='horizontal',readout=True,readout_format='.3f')\n",
    "trSlider"
   ]
  },
  {
   "cell_type": "code",
   "execution_count": 15,
   "metadata": {},
   "outputs": [
    {
     "data": {
      "application/vnd.jupyter.widget-view+json": {
       "model_id": "1e8f5a8481894bc9acca52b1642b1faa",
       "version_major": 2,
       "version_minor": 0
      },
      "text/plain": [
       "FloatSlider(value=0.045, description='Recovery rate:', max=1.5, readout_format='.3f', step=0.001)"
      ]
     },
     "metadata": {},
     "output_type": "display_data"
    }
   ],
   "source": [
    "rrSlider = FloatSlider(value=0.045,min=0,max=1.5,step=0.001,description='Recovery rate:',orientation='horizontal',readout=True,readout_format='.3f')\n",
    "rrSlider"
   ]
  },
  {
   "cell_type": "code",
   "execution_count": 21,
   "metadata": {},
   "outputs": [],
   "source": [
    "transmission_rate = trSlider.value\n",
    "recovery_rate = rrSlider.value"
   ]
  },
  {
   "cell_type": "markdown",
   "metadata": {},
   "source": [
    "In order to update the model every timeslice we must define a rule. We define three constants representing susceptible, infectious and recovered people.\n",
    "\n",
    "The rule takes the current neighbourhood state (ndarray), coordinates of current cell (bi-tuple), current timestep."
   ]
  },
  {
   "cell_type": "code",
   "execution_count": 22,
   "metadata": {},
   "outputs": [],
   "source": [
    "SUSCEPTIBLE = 0\n",
    "INFECTIOUS = 1\n",
    "RECOVERED = 2\n",
    "\n",
    "def virus_spread_rule(neighbourhood, c, t):\n",
    "    cell = neighbourhood[1][1]\n",
    "\n",
    "    if cell == SUSCEPTIBLE:\n",
    "        infectious_neighs = np.count_nonzero(neighbourhood == INFECTIOUS)\n",
    "        comp_risk = infectious_neighs * random.random()\n",
    "        if comp_risk >= transmission_rate:\n",
    "            return INFECTIOUS\n",
    "        else:\n",
    "            return SUSCEPTIBLE\n",
    "\n",
    "    elif cell == INFECTIOUS:\n",
    "        if random.random() >= recovery_rate:\n",
    "            return RECOVERED\n",
    "        else:\n",
    "            return INFECTIOUS\n",
    "\n",
    "    else:\n",
    "        return RECOVERED"
   ]
  },
  {
   "cell_type": "markdown",
   "metadata": {},
   "source": [
    "Every day a percentage of people gets infected, and another percentage recovers from the virus and don't spread it any further.\n",
    "\n",
    "Now let our sandboxed model evolve using the rule we defined earlier. We use the function *evolve2d* and we pass the timesteps (days) to perform the evolution."
   ]
  },
  {
   "cell_type": "code",
   "execution_count": 33,
   "metadata": {},
   "outputs": [
    {
     "data": {
      "application/vnd.jupyter.widget-view+json": {
       "model_id": "6fe1cc5451d6467fbcd1892e5793994c",
       "version_major": 2,
       "version_minor": 0
      },
      "text/plain": [
       "IntSlider(value=30, description='Timesteps:', max=1000, min=1)"
      ]
     },
     "metadata": {},
     "output_type": "display_data"
    }
   ],
   "source": [
    "tsSlider = IntSlider(value=30,min=1,max=1000,step=1,description='Timesteps:',readout=True,readout_format='d')\n",
    "tsSlider"
   ]
  },
  {
   "cell_type": "code",
   "execution_count": 36,
   "metadata": {},
   "outputs": [
    {
     "data": {
      "image/png": "[encoded data removed]",
      "text/plain": [
       "<Figure size 432x288 with 1 Axes>"
      ]
     },
     "metadata": {
      "needs_background": "light"
     },
     "output_type": "display_data"
    }
   ],
   "source": [
    "sandbox = cpl.evolve2d(sandbox, timesteps=tsSlider.value, neighbourhood='Moore',apply_rule=virus_spread_rule)\n",
    "#Moore neighbourhood type represents the 8 immediate neighbours for each cell\n",
    "\n",
    "cpl.plot2d(sandbox)"
   ]
  },
  {
   "cell_type": "markdown",
   "metadata": {},
   "source": [
    "We can extract SIR functions values using numpy facilities."
   ]
  },
  {
   "cell_type": "code",
   "execution_count": 32,
   "metadata": {},
   "outputs": [
    {
     "data": {
      "image/png": "[encoded data removed]",
      "text/plain": [
       "<Figure size 432x288 with 1 Axes>"
      ]
     },
     "metadata": {
      "needs_background": "light"
     },
     "output_type": "display_data"
    }
   ],
   "source": [
    "sir = []\n",
    "for timeslice in sandbox:\n",
    "    s = np.count_nonzero(timeslice == SUSCEPTIBLE)\n",
    "    i = np.count_nonzero(timeslice == INFECTIOUS)\n",
    "    r = np.count_nonzero(timeslice == RECOVERED)\n",
    "    sir.append((s,i,r))\n",
    "    \n",
    "plt.plot(sir)\n",
    "plt.legend(('Susceptible', 'Infectious', 'Recovered'))\n",
    "plt.show()"
   ]
  },
  {
   "cell_type": "code",
   "execution_count": null,
   "metadata": {},
   "outputs": [],
   "source": []
  }
 ],
 "metadata": {
  "kernelspec": {
   "display_name": "Python 3",
   "language": "python",
   "name": "python3"
  },
  "language_info": {
   "codemirror_mode": {
    "name": "ipython",
    "version": 3
   },
   "file_extension": ".py",
   "mimetype": "text/x-python",
   "name": "python",
   "nbconvert_exporter": "python",
   "pygments_lexer": "ipython3",
   "version": "3.6.5"
  }
 },
 "nbformat": 4,
 "nbformat_minor": 2
}
