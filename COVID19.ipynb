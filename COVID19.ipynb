{
 "cells": [
  {
   "cell_type": "markdown",
   "metadata": {
    "collapsed": true,
    "pycharm": {
     "is_executing": false
    }
   },
   "source": [
    "# COVID-19 Simulator"
   ]
  },
  {
   "cell_type": "markdown",
   "metadata": {},
   "source": [
    "### Spread inference and further prediction.\n",
    "© 2020 Giulio Corradini"
   ]
  },
  {
   "cell_type": "markdown",
   "metadata": {},
   "source": [
    "In order to understand the spread of a disease, we use math models. The most common one is the SIR model, which stands for susceptible, infectious and recovered: categories of people during a pandemic.\n",
    "Many models derive from the original SIR (e.g. SIRD where deceased people are another category) but the simplest one lets us figure out how is a virus spreading."
   ]
  },
  {
   "cell_type": "markdown",
   "metadata": {},
   "source": [
    "We're going to study the behaviour of COVID-19 in Italy. During this pandemic Protezione Civile and AGID upload disease data on their GitHub repository. Open data accessible to everyone!\n",
    "\n",
    "The repository is located at: https://github.com/pcm-dpc/COVID-19"
   ]
  },
  {
   "cell_type": "markdown",
   "metadata": {},
   "source": [
    "Let's begin by downloading the latest data from the repository; I've written a library that gets the job done using the *requests* module. It then converts it to JSON, extracts SIR data given a initial population value, converts everything to a numpy array."
   ]
  },
  {
   "cell_type": "code",
   "execution_count": 1,
   "metadata": {},
   "outputs": [],
   "source": [
    "import data_fetcher as df\n",
    "\n",
    "# Download\n",
    "latest = df.fetch_data()\n",
    "\n",
    "sample_population = 500000\n",
    "\n",
    "# Convert\n",
    "italy_data = df.process_data(latest, sample_population)"
   ]
  },
  {
   "cell_type": "markdown",
   "metadata": {},
   "source": [
    "Now that we have our data, we can infer the β and ɣ constants values that we need to further predict the spread of the disease.\n",
    "\n",
    "I've written another module (sir.py) that contains facilities to infer these values given the values of SIR function in a discrete time domain.\n",
    "\n",
    "Let's import the module and let it perform the computation for us. It uses bounded BFGS to evaluate the gradient descent of the function to compute beta and gamma."
   ]
  },
  {
   "cell_type": "code",
   "execution_count": 2,
   "metadata": {},
   "outputs": [],
   "source": [
    "from sir import *\n",
    "interpolator = SIRInterpolation(italy_data)\n",
    "beta, gamma = interpolator.fit()"
   ]
  },
  {
   "cell_type": "code",
   "execution_count": 3,
   "metadata": {},
   "outputs": [
    {
     "name": "stdout",
     "output_type": "stream",
     "text": [
      "β: 0.4434211991848095\n",
      "ɣ: 0.3363787799225514\n"
     ]
    }
   ],
   "source": [
    "print(\"β:\", beta)\n",
    "print(\"ɣ:\", gamma)"
   ]
  },
  {
   "cell_type": "markdown",
   "metadata": {},
   "source": [
    "If these values don't change until the end of the pandemic, how may the virus possibly spread?\n",
    "\n",
    "We istantiate a SIRPrediction object, we pass the population, beta, gamma, t (init time of simulation) and initial SIR values."
   ]
  },
  {
   "cell_type": "code",
   "execution_count": 4,
   "metadata": {},
   "outputs": [],
   "source": [
    "predictor = SIRPredict(sample_population, beta, gamma, t=len(italy_data), initsir=italy_data[-1])\n",
    "\n",
    "# Predict for 100 days\n",
    "predicted = predictor.spread_predict(100)"
   ]
  },
  {
   "cell_type": "markdown",
   "metadata": {},
   "source": [
    "Let's gracefully plot our data using *matplotlib.pyplot* module."
   ]
  },
  {
   "cell_type": "code",
   "execution_count": 5,
   "metadata": {},
   "outputs": [
    {
     "data": {
      "image/png": "[encoded data removed]",
      "text/plain": [
       "<Figure size 432x288 with 1 Axes>"
      ]
     },
     "metadata": {},
     "output_type": "display_data"
    }
   ],
   "source": [
    "import matplotlib.pyplot as plt\n",
    "import numpy as np\n",
    "\n",
    "# Stack real data and predicted\n",
    "plt.plot( np.vstack((italy_data, predicted)) )\n",
    "\n",
    "plt.legend((\"Susceptible\", \"Infectious\", \"Recovered\"))\n",
    "plt.xlabel(\"Days\")\n",
    "plt.ylabel(\"People\")\n",
    "\n",
    "plt.show()"
   ]
  },
  {
   "cell_type": "markdown",
   "metadata": {},
   "source": [
    "The plot shows three angular points where real data becomes a prediction...\n",
    "\n",
    "What is the value of R naught? A piece of cake!\n",
    "\n",
    "$R_0 = \\frac{\\beta}{\\gamma}$"
   ]
  },
  {
   "cell_type": "code",
   "execution_count": 12,
   "metadata": {},
   "outputs": [
    {
     "name": "stdout",
     "output_type": "stream",
     "text": [
      "R0:  1.3182198927260032\n"
     ]
    }
   ],
   "source": [
    "rn = beta/gamma\n",
    "print(\"R0: \", rn)"
   ]
  },
  {
   "cell_type": "markdown",
   "metadata": {},
   "source": [
    "This means that we need at least $\\frac{R_0 - 1}{R_0}$ recovered people to achieve herd immunity."
   ]
  },
  {
   "cell_type": "code",
   "execution_count": 16,
   "metadata": {},
   "outputs": [
    {
     "name": "stdout",
     "output_type": "stream",
     "text": [
      "Herd immunity: 24.140122181584033%\n"
     ]
    }
   ],
   "source": [
    "# Herd immunity rate\n",
    "hi = (rn - 1)/rn * 100\n",
    "\n",
    "print(\"Herd immunity: {}%\".format(hi))"
   ]
  }
 ],
 "metadata": {
  "kernelspec": {
   "display_name": "Python 3",
   "language": "python",
   "name": "python3"
  },
  "language_info": {
   "codemirror_mode": {
    "name": "ipython",
    "version": 3
   },
   "file_extension": ".py",
   "mimetype": "text/x-python",
   "name": "python",
   "nbconvert_exporter": "python",
   "pygments_lexer": "ipython3",
   "version": "3.6.5"
  },
  "pycharm": {
   "stem_cell": {
    "cell_type": "raw",
    "metadata": {
     "collapsed": false
    },
    "source": []
   }
  }
 },
 "nbformat": 4,
 "nbformat_minor": 1
}
